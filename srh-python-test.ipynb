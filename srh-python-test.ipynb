{
 "cells": [
  {
   "cell_type": "code",
   "execution_count": null,
   "metadata": {},
   "outputs": [],
   "source": [
    "# Big Data Programming: Pyhton Module Test\n",
    "# Instructions ...\n",
    "# Please consider good style & naming while developing the code when necessary,\n",
    "#  such as Docstring, linting, etc. it is considered in the grading process!\n",
    "# Use this file for the solution only. Jupyter notebook(.ipynb) not acceptable!\n",
    "# Push the solution to a remote repo of name \"SRH-Python-Test\", and send me the link of the repo as DM\n",
    "#  on Ms Teams for assessment.\n",
    "# The duration of this test is 1 hour.\n",
    "\n"
   ]
  },
  {
   "cell_type": "markdown",
   "metadata": {},
   "source": [
    "# Q1: What is the main difference between the list and Tuple?\n",
    "# Answer : List consists of elements within squred braces [] with '' or \"\". \n",
    "# Example : fruits = [\"Apple\",\"Banana\",\"Orange\"] and is mutable.\n",
    "# Tuple consists of elements in () with '' or \"\", which is an orederd is list and immutable.\n",
    "# example : x = (1,2,3)"
   ]
  },
  {
   "cell_type": "markdown",
   "metadata": {},
   "source": [
    "# Q2: why should list indexing be used Python?\n",
    "# Answer : List indexing starts from 0 for the first element. \n",
    "# List indexing is important to address each of the element that is present in the list.\n",
    "# ex : fruits = [\"Apple\",\"Banana\",\"Orange\"] and fruits [0] will return apple.\n",
    "\n"
   ]
  },
  {
   "cell_type": "markdown",
   "metadata": {},
   "source": [
    "# Q3: You have two lists (string_list, values_list) below. Write a function of\n",
    "#  a name count_car. The function returns a dictionary.\n",
    "#  The expected return of the function should print out this dictionary:\n",
    "#  {'Audi_Q5': 2, 'Honda_civic': 4, 'Mercedes_200E': 5, 'BMW_720': 7, 'VW_passat': 2}\n",
    "string_list = ['Audi_Q5', 'Honda_civic', 'Mercedes_200E', 'Honda_civic',\n",
    "               'BMW_720', 'VW_passat']\n",
    "\n",
    "value_list = [2, 4, 5, 7, 2]"
   ]
  },
  {
   "cell_type": "code",
   "execution_count": 5,
   "metadata": {},
   "outputs": [
    {
     "name": "stdout",
     "output_type": "stream",
     "text": [
      "{'Audi_Q5': 2, 'Honda_civic': 11, 'Mercedes_200E': 5, 'BMW_720': 2}\n"
     ]
    }
   ],
   "source": [
    "def count_car(string_list, value_list):\n",
    "    # initialize dict to add the values\n",
    "    car_count = {}\n",
    "    \n",
    "    # move over string list and value list\n",
    "    for car, value in zip(string_list, value_list):\n",
    "        if car in car_count:\n",
    "            car_count[car] +=value  \n",
    "        else:\n",
    "            car_count[car] =value \n",
    "    \n",
    "    return car_count\n",
    "\n",
    "string_list = ['Audi_Q5', 'Honda_civic', 'Mercedes_200E', 'Honda_civic',\n",
    "               'BMW_720', 'VW_passat']\n",
    "value_list = [2, 4, 5, 7, 2]\n",
    "\n",
    "#print the result on calling the function\n",
    "result = count_car(string_list, value_list)\n",
    "print(result)\n",
    "\n"
   ]
  },
  {
   "cell_type": "markdown",
   "metadata": {},
   "source": [
    "# Q4: Write a function of a name double_even_numbers.  .\n",
    "#  The function has one argument which is a numpy array of 100 elements of\n",
    "#  integer type between 0-10.\n",
    "#  The function returns an array. Use list comprehension in your answer.\n",
    "\n",
    "# Your code here ..."
   ]
  },
  {
   "cell_type": "code",
   "execution_count": 4,
   "metadata": {},
   "outputs": [
    {
     "name": "stdout",
     "output_type": "stream",
     "text": [
      "Input Array:\n",
      " [10  7  0  5  4  6 10 10  0  2  1  1  6  6  7  1  8  5 10  0  4  7  6  3\n",
      "  1  4  0  4  5  0  1  2  5  6  2  4  7  7  5  5  4  4  6  2  8  6  7  8\n",
      "  8  1  3  4  1 10  4  0  8  7  3  3  0  4  3 10  1  4  6  2  4  4  1  8\n",
      "  0  8  5  3  9  4  7  0  1  2  5  0  8  7  7  7  6  0  1  5  3  6  1  7\n",
      "  5  8 10  7]\n",
      "Output Array for Even Numbers Doubled:\n",
      " [20  7  0  5  8 12 20 20  0  4  1  1 12 12  7  1 16  5 20  0  8  7 12  3\n",
      "  1  8  0  8  5  0  1  4  5 12  4  8  7  7  5  5  8  8 12  4 16 12  7 16\n",
      " 16  1  3  8  1 20  8  0 16  7  3  3  0  8  3 20  1  8 12  4  8  8  1 16\n",
      "  0 16  5  3  9  8  7  0  1  4  5  0 16  7  7  7 12  0  1  5  3 12  1  7\n",
      "  5 16 20  7]\n"
     ]
    }
   ],
   "source": [
    "import numpy as np\n",
    "\n",
    "def double_even_numbers(arr):\n",
    "    \n",
    "    result = np.array([x * 2 if x % 2 == 0 else x for x in arr])\n",
    "    return result\n",
    "\n",
    "\n",
    "inp_array = np.random.randint(0, 11, 100)\n",
    "outp_array = double_even_numbers(inp_array)\n",
    "\n",
    "\n",
    "print(\"Input Array:\\n\", inp_array)\n",
    "print(\"Output Array for Even Numbers Doubled:\\n\", outp_array)"
   ]
  }
 ],
 "metadata": {
  "kernelspec": {
   "display_name": "base",
   "language": "python",
   "name": "python3"
  },
  "language_info": {
   "codemirror_mode": {
    "name": "ipython",
    "version": 3
   },
   "file_extension": ".py",
   "mimetype": "text/x-python",
   "name": "python",
   "nbconvert_exporter": "python",
   "pygments_lexer": "ipython3",
   "version": "3.12.7"
  }
 },
 "nbformat": 4,
 "nbformat_minor": 2
}
